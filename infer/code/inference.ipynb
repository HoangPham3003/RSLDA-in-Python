{
 "cells": [
  {
   "attachments": {},
   "cell_type": "markdown",
   "metadata": {},
   "source": [
    "### Dataset:\n",
    "- https://archive.ics.uci.edu/ml/datasets/FMA%3A+A+Dataset+For+Music+Analysis"
   ]
  },
  {
   "attachments": {},
   "cell_type": "markdown",
   "metadata": {},
   "source": [
    "### Libraries"
   ]
  },
  {
   "cell_type": "code",
   "execution_count": 5,
   "metadata": {},
   "outputs": [],
   "source": [
    "import os\n",
    "import numpy as np\n",
    "import pandas as pd\n",
    "\n",
    "import ast\n",
    "\n",
    "import sklearn as skl\n",
    "from sklearn import preprocessing\n",
    "\n",
    "from sklearn.svm import SVC"
   ]
  },
  {
   "attachments": {},
   "cell_type": "markdown",
   "metadata": {},
   "source": [
    "#### Load data"
   ]
  },
  {
   "cell_type": "code",
   "execution_count": 3,
   "metadata": {},
   "outputs": [],
   "source": [
    "def load(filepath):\n",
    "\n",
    "    filename = os.path.basename(filepath)\n",
    "\n",
    "    if 'features' in filename:\n",
    "        return pd.read_csv(filepath, index_col=0, header=[0, 1, 2])\n",
    "\n",
    "    if 'echonest' in filename:\n",
    "        return pd.read_csv(filepath, index_col=0, header=[0, 1, 2])\n",
    "\n",
    "    if 'genres' in filename:\n",
    "        return pd.read_csv(filepath, index_col=0)\n",
    "\n",
    "    if 'tracks' in filename:\n",
    "        tracks = pd.read_csv(filepath, index_col=0, header=[0, 1])\n",
    "\n",
    "        COLUMNS = [('track', 'tags'), ('album', 'tags'), ('artist', 'tags'),\n",
    "                   ('track', 'genres'), ('track', 'genres_all')]\n",
    "        for column in COLUMNS:\n",
    "            tracks[column] = tracks[column].map(ast.literal_eval)\n",
    "\n",
    "        COLUMNS = [('track', 'date_created'), ('track', 'date_recorded'),\n",
    "                   ('album', 'date_created'), ('album', 'date_released'),\n",
    "                   ('artist', 'date_created'), ('artist', 'active_year_begin'),\n",
    "                   ('artist', 'active_year_end')]\n",
    "        for column in COLUMNS:\n",
    "            tracks[column] = pd.to_datetime(tracks[column])\n",
    "\n",
    "        SUBSETS = ('small', 'medium', 'large')\n",
    "        try:\n",
    "            tracks['set', 'subset'] = tracks['set', 'subset'].astype(\n",
    "                    'category', categories=SUBSETS, ordered=True)\n",
    "        except (ValueError, TypeError):\n",
    "            # the categories and ordered arguments were removed in pandas 0.25\n",
    "            tracks['set', 'subset'] = tracks['set', 'subset'].astype(\n",
    "                     pd.CategoricalDtype(categories=SUBSETS, ordered=True))\n",
    "\n",
    "        COLUMNS = [('track', 'genre_top'), ('track', 'license'),\n",
    "                   ('album', 'type'), ('album', 'information'),\n",
    "                   ('artist', 'bio')]\n",
    "        for column in COLUMNS:\n",
    "            tracks[column] = tracks[column].astype('category')\n",
    "\n",
    "        return tracks"
   ]
  },
  {
   "cell_type": "code",
   "execution_count": 6,
   "metadata": {},
   "outputs": [],
   "source": [
    "tracks = load('../data/tracks.csv')\n",
    "features = load('../data/features.csv')"
   ]
  },
  {
   "cell_type": "code",
   "execution_count": 7,
   "metadata": {},
   "outputs": [
    {
     "name": "stdout",
     "output_type": "stream",
     "text": [
      "Shape of tracks :  (106574, 52)\n",
      "Shape of features :  (106574, 518)\n"
     ]
    }
   ],
   "source": [
    "print(\"Shape of tracks : \", tracks.shape)\n",
    "print(\"Shape of features : \", features.shape)"
   ]
  },
  {
   "cell_type": "code",
   "execution_count": 8,
   "metadata": {},
   "outputs": [],
   "source": [
    "# Load train, val, test set of medium dataset\n",
    "medium = tracks['set', 'subset'] <= 'medium'\n",
    "\n",
    "train = tracks['set', 'split'] == 'training'\n",
    "val = tracks['set', 'split'] == 'validation'\n",
    "test = tracks['set', 'split'] == 'test'"
   ]
  },
  {
   "cell_type": "code",
   "execution_count": 9,
   "metadata": {},
   "outputs": [],
   "source": [
    "# Create x_train, y_train, x_test, y_test\n",
    "y_train = tracks.loc[medium & train, ('track', 'genre_top')]\n",
    "y_test = tracks.loc[medium & test, ('track', 'genre_top')]\n",
    "X_train = features.loc[medium & train]\n",
    "X_test = features.loc[medium & test]"
   ]
  },
  {
   "cell_type": "code",
   "execution_count": 10,
   "metadata": {},
   "outputs": [
    {
     "name": "stdout",
     "output_type": "stream",
     "text": [
      "19922 training examples, 2573 testing examples\n",
      "518 features, 16 classes\n"
     ]
    }
   ],
   "source": [
    "print('{} training examples, {} testing examples'.format(y_train.size, y_test.size))\n",
    "print('{} features, {} classes'.format(X_train.shape[1], np.unique(y_train).size))"
   ]
  },
  {
   "cell_type": "code",
   "execution_count": 11,
   "metadata": {},
   "outputs": [],
   "source": [
    "X_train, y_train = skl.utils.shuffle(X_train, y_train, random_state=42)"
   ]
  },
  {
   "cell_type": "code",
   "execution_count": 12,
   "metadata": {},
   "outputs": [
    {
     "data": {
      "text/plain": [
       "array([[-2.31296916e-01, -2.33975905e-01,  1.16533023e-01, ...,\n",
       "        -5.13189614e-01, -8.52162570e-01, -9.01382593e-02],\n",
       "       [ 9.26064840e-02,  6.82777280e-01, -1.35499410e-01, ...,\n",
       "        -1.21313133e-01, -7.00878309e-01, -8.42291385e-01],\n",
       "       [-4.66735180e-01, -2.94790500e-01,  2.05082936e-03, ...,\n",
       "        -5.13189614e-01,  8.43091404e-01, -2.73593365e-02],\n",
       "       ...,\n",
       "       [-4.89343929e-01, -4.94986994e-01, -1.99236596e-01, ...,\n",
       "        -3.17251373e-01,  1.72207604e-01,  2.64103395e+00],\n",
       "       [-5.39302574e-01, -5.88055804e-01, -1.77953967e-01, ...,\n",
       "        -1.21313133e-01,  1.36941072e+00,  1.76063047e+00],\n",
       "       [-4.79443152e-01, -4.57697694e-01, -8.36406594e-02, ...,\n",
       "         1.25025455e+00,  1.07589628e-01,  3.55625521e+00]])"
      ]
     },
     "execution_count": 12,
     "metadata": {},
     "output_type": "execute_result"
    }
   ],
   "source": [
    "# Standardize features by removing the mean and scaling to unit variance.\n",
    "scaler = preprocessing.StandardScaler(copy=False)\n",
    "scaler.fit_transform(X_train)\n",
    "scaler.transform(X_test)"
   ]
  },
  {
   "attachments": {},
   "cell_type": "markdown",
   "metadata": {},
   "source": [
    "#### Training SVM with origin data as paper, not apply RSLDA "
   ]
  },
  {
   "cell_type": "code",
   "execution_count": 13,
   "metadata": {},
   "outputs": [
    {
     "name": "stdout",
     "output_type": "stream",
     "text": [
      "Accuracy: 62.88%\n"
     ]
    }
   ],
   "source": [
    "# Support vector classification.\n",
    "clf = SVC()\n",
    "clf.fit(X_train, y_train)\n",
    "score = clf.score(X_test, y_test)\n",
    "print('Accuracy: {:.2%}'.format(score))"
   ]
  },
  {
   "attachments": {},
   "cell_type": "markdown",
   "metadata": {},
   "source": [
    "### Apply RSLDA"
   ]
  },
  {
   "cell_type": "code",
   "execution_count": 15,
   "metadata": {},
   "outputs": [],
   "source": [
    "y_train = tracks.loc[medium & train, ('track', 'genre_top')]\n",
    "y_test = tracks.loc[medium & test, ('track', 'genre_top')]\n",
    "X_train = features.loc[medium & train]\n",
    "X_test = features.loc[medium & test]"
   ]
  },
  {
   "cell_type": "code",
   "execution_count": 16,
   "metadata": {},
   "outputs": [],
   "source": [
    "X_train_temp = np.array(X_train)\n",
    "X_test_temp = np.array(X_test)"
   ]
  },
  {
   "cell_type": "code",
   "execution_count": 17,
   "metadata": {},
   "outputs": [
    {
     "data": {
      "text/plain": [
       "array([[ 4.53785682e+00,  3.45263721e+00,  1.59075970e-03, ...,\n",
       "        -5.13189614e-01, -3.81407446e-01,  8.52545660e-01],\n",
       "       [ 1.11898260e+00,  4.72730563e-01,  2.00119191e-02, ...,\n",
       "        -5.13189614e-01, -5.16431336e-01,  1.16579300e+00],\n",
       "       [ 2.39404001e-01, -8.60764601e-02, -9.99299225e-02, ...,\n",
       "        -5.13189614e-01, -3.43980897e-01,  1.93327663e-01],\n",
       "       ...,\n",
       "       [ 3.15158641e-01, -6.20587126e-01, -2.66841221e-01, ...,\n",
       "         4.66501589e-01,  1.27226628e-02, -7.14283610e-01],\n",
       "       [-3.90204841e-01,  7.89046640e-01, -9.44106825e-02, ...,\n",
       "        -1.21313133e-01, -4.15344428e-01,  1.23263946e-01],\n",
       "       [-1.80227023e-01, -2.66659242e-01, -1.52942491e-01, ...,\n",
       "         7.60408950e-01, -4.17879268e-01, -8.22960438e-01]])"
      ]
     },
     "execution_count": 17,
     "metadata": {},
     "output_type": "execute_result"
    }
   ],
   "source": [
    "scaler = preprocessing.StandardScaler(copy=False)\n",
    "scaler.fit_transform(X_train_temp)"
   ]
  },
  {
   "cell_type": "code",
   "execution_count": 18,
   "metadata": {},
   "outputs": [],
   "source": [
    "X_train_temp = X_train_temp.T"
   ]
  },
  {
   "cell_type": "code",
   "execution_count": 19,
   "metadata": {},
   "outputs": [],
   "source": [
    "y_train_temp = np.array(y_train)"
   ]
  },
  {
   "cell_type": "code",
   "execution_count": 20,
   "metadata": {},
   "outputs": [],
   "source": [
    "# Encode label\n",
    "le = preprocessing.LabelEncoder()\n",
    "y_train_temp = le.fit(np.unique(y_train_temp)).transform(y_train_temp)"
   ]
  },
  {
   "cell_type": "code",
   "execution_count": 21,
   "metadata": {},
   "outputs": [],
   "source": [
    "y_train_temp = y_train_temp.reshape(-1, 1)"
   ]
  },
  {
   "cell_type": "code",
   "execution_count": 23,
   "metadata": {},
   "outputs": [
    {
     "name": "stdout",
     "output_type": "stream",
     "text": [
      "Shape of x_train = (518, 19922) - Shape of y_train = (19922, 1)\n"
     ]
    }
   ],
   "source": [
    "print(f\"Shape of x_train = {X_train_temp.shape} - Shape of y_train = {y_train_temp.shape}\")"
   ]
  },
  {
   "cell_type": "code",
   "execution_count": 30,
   "metadata": {},
   "outputs": [],
   "source": [
    "import sys\n",
    "sys.path.append(\"../../\")\n",
    "from RSLDA import RSLDA, sort_power_of_features"
   ]
  },
  {
   "cell_type": "code",
   "execution_count": 31,
   "metadata": {},
   "outputs": [
    {
     "name": "stdout",
     "output_type": "stream",
     "text": [
      "RUNNING RSLDA!\n"
     ]
    },
    {
     "name": "stderr",
     "output_type": "stream",
     "text": [
      "100%|██████████| 100/100 [05:04<00:00,  3.04s/it]"
     ]
    },
    {
     "name": "stdout",
     "output_type": "stream",
     "text": [
      "Shape of Q =  (518, 512)\n"
     ]
    },
    {
     "name": "stderr",
     "output_type": "stream",
     "text": [
      "\n"
     ]
    }
   ],
   "source": [
    "P_train, Q_train, E_train, obj_train = RSLDA(X=X_train_temp, label=y_train_temp, dim=512, max_iter=100)\n",
    "\n",
    "print(\"Shape of Q = \", Q_train.shape)"
   ]
  },
  {
   "attachments": {},
   "cell_type": "markdown",
   "metadata": {},
   "source": [
    "#### Select features"
   ]
  },
  {
   "cell_type": "code",
   "execution_count": 32,
   "metadata": {},
   "outputs": [
    {
     "name": "stdout",
     "output_type": "stream",
     "text": [
      "Shape of sorted power of features :  (518,)\n"
     ]
    }
   ],
   "source": [
    "# Sort the power of features\n",
    "sorted_power_train = sort_power_of_features(Q=Q_train)\n",
    "print(\"Shape of sorted power of features : \", sorted_power_train.shape)"
   ]
  },
  {
   "cell_type": "code",
   "execution_count": 33,
   "metadata": {},
   "outputs": [
    {
     "name": "stdout",
     "output_type": "stream",
     "text": [
      "Shape of sorted power :  (500,)\n"
     ]
    }
   ],
   "source": [
    "# Select features\n",
    "NEW_NUM_FEATURES = 500 # Tune for [500, 400, 300, 200, 100]\n",
    "sorted_power = sorted_power_train[:NEW_NUM_FEATURES]\n",
    "print(\"Shape of sorted power : \", sorted_power.shape)"
   ]
  },
  {
   "cell_type": "code",
   "execution_count": 34,
   "metadata": {},
   "outputs": [],
   "source": [
    "# Create train, test data from new features\n",
    "X_train_new = np.array(X_train).T[sorted_power].T\n",
    "X_test_new = np.array(X_test).T[sorted_power].T\n",
    "y_train_new = np.array(y_train)\n",
    "y_test_new = np.array(y_test)"
   ]
  },
  {
   "cell_type": "code",
   "execution_count": 35,
   "metadata": {},
   "outputs": [
    {
     "name": "stdout",
     "output_type": "stream",
     "text": [
      "Shape of x_train = (19922, 500) - Shape of y_train = (19922,)\n",
      "Shape of x_test = (2573, 500) - Shape of y_test = (2573,)\n"
     ]
    }
   ],
   "source": [
    "print(f\"Shape of x_train = {X_train_new.shape} - Shape of y_train = {y_train_new.shape}\")\n",
    "print(f\"Shape of x_test = {X_test_new.shape} - Shape of y_test = {y_test_new.shape}\")"
   ]
  },
  {
   "cell_type": "code",
   "execution_count": 36,
   "metadata": {},
   "outputs": [
    {
     "data": {
      "text/plain": [
       "array([[ 0.0284512 ,  0.21040439,  0.12417407, ..., -0.02682768,\n",
       "         0.04542178, -0.40757377],\n",
       "       [-0.06527487, -0.70358955,  0.20390302, ...,  0.47490225,\n",
       "        -0.19123201, -0.68914526],\n",
       "       [-0.0338619 ,  1.68559198, -0.58560683, ...,  0.71608383,\n",
       "         0.08205709,  0.28762714],\n",
       "       ...,\n",
       "       [-0.01476993,  0.5011997 ,  0.59870987, ...,  0.57221616,\n",
       "        -0.55183883,  1.17745318],\n",
       "       [-0.01323293, -0.50999928, -0.86911587, ..., -1.05634999,\n",
       "         0.1480799 ,  2.1780856 ],\n",
       "       [-0.01121049, -0.9968178 ,  0.0630906 , ..., -2.90609597,\n",
       "        -0.8262343 ,  1.60266463]])"
      ]
     },
     "execution_count": 36,
     "metadata": {},
     "output_type": "execute_result"
    }
   ],
   "source": [
    "# Standardize features by removing the mean and scaling to unit variance.\n",
    "scaler = preprocessing.StandardScaler(copy=False)\n",
    "scaler.fit_transform(X_train_new)\n",
    "scaler.transform(X_test_new)"
   ]
  },
  {
   "cell_type": "code",
   "execution_count": 37,
   "metadata": {},
   "outputs": [],
   "source": [
    "X_train_new, y_train_new = skl.utils.shuffle(X_train_new, y_train_new, random_state=42)"
   ]
  },
  {
   "cell_type": "code",
   "execution_count": 38,
   "metadata": {},
   "outputs": [
    {
     "name": "stdout",
     "output_type": "stream",
     "text": [
      "Accuracy: 63.00%\n"
     ]
    }
   ],
   "source": [
    "# Support vector classification.\n",
    "clf = SVC()\n",
    "clf.fit(X_train_new, y_train_new)\n",
    "score = clf.score(X_test_new, y_test_new)\n",
    "print('Accuracy: {:.2%}'.format(score))"
   ]
  },
  {
   "attachments": {},
   "cell_type": "markdown",
   "metadata": {},
   "source": [
    "#### Results:\n",
    "- Full (n_fea = 518) : 62.88% \n",
    "- n_fea = 500 : 63.00%\n",
    "- n_fea = 400 : 62.61%\n",
    "- n_fea = 300 : 62.18%\n",
    "- n_fea = 200 : 60.05%\n",
    "- n_fea = 100 : 58.26%"
   ]
  },
  {
   "cell_type": "code",
   "execution_count": 48,
   "metadata": {},
   "outputs": [
    {
     "data": {
      "image/png": "[encoded data removed]",
      "text/plain": [
       "<Figure size 576x432 with 1 Axes>"
      ]
     },
     "metadata": {
      "needs_background": "light"
     },
     "output_type": "display_data"
    }
   ],
   "source": [
    "import matplotlib.pyplot as plt\n",
    "y = [62.88, 63.00, 62.61, 62.18, 60.05, 58.26]\n",
    "x = [518, 500, 400, 300, 200, 100]\n",
    "plt.figure(figsize=(8, 6))\n",
    "plt.plot(x, y, marker='o')\n",
    "plt.xlabel(\"#features\")\n",
    "plt.ylabel(\"Accuracy (%)\")\n",
    "plt.show()\n"
   ]
  },
  {
   "cell_type": "code",
   "execution_count": null,
   "metadata": {},
   "outputs": [],
   "source": []
  }
 ],
 "metadata": {
  "kernelspec": {
   "display_name": "env39",
   "language": "python",
   "name": "python3"
  },
  "language_info": {
   "codemirror_mode": {
    "name": "ipython",
    "version": 3
   },
   "file_extension": ".py",
   "mimetype": "text/x-python",
   "name": "python",
   "nbconvert_exporter": "python",
   "pygments_lexer": "ipython3",
   "version": "3.9.12"
  },
  "orig_nbformat": 4
 },
 "nbformat": 4,
 "nbformat_minor": 2
}
